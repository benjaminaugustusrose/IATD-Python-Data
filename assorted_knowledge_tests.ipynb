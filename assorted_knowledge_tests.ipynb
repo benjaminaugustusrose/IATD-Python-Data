{
 "cells": [
  {
   "cell_type": "code",
   "execution_count": null,
   "metadata": {},
   "outputs": [],
   "source": [
    "import pandas as pd\n",
    "import numpy as np\n",
    "\n",
    "data = {\n",
    "    'A': ['1A', '2A', '3A', '4A'],\n",
    "    'B': ['1B', '2B', np.nan, '4B'],\n",
    "    'C': ['1C', np.nan, '3C', '4C'],\n",
    "    'D': ['1D', '2D', '3D', '4D']}\n",
    "\n",
    "data = pd.DataFrame(data, index=[0, 1, 2, 3])\n",
    "data = data.dropna()\n",
    "\n",
    "data[\"A\"][3]"
   ]
  },
  {
   "cell_type": "code",
   "execution_count": null,
   "metadata": {},
   "outputs": [],
   "source": []
  }
 ],
 "metadata": {
  "kernelspec": {
   "display_name": "Python 3",
   "language": "python",
   "name": "python3"
  },
  "language_info": {
   "name": "python",
   "version": "3.12.4"
  }
 },
 "nbformat": 4,
 "nbformat_minor": 2
}
