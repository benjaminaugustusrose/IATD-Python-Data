{
 "cells": [
  {
   "cell_type": "code",
   "execution_count": 5,
   "metadata": {},
   "outputs": [
    {
     "name": "stdout",
     "output_type": "stream",
     "text": [
      "----- available tables -----\n",
      "        name\n",
      "0  incidents\n",
      "\n",
      "\n",
      "----- population of features -----\n",
      "incident_number    600028\n",
      "datetime           600028\n",
      "category           600028\n",
      "description        600028\n",
      "resolution         213275\n",
      "pd_district        600028\n",
      "address            600028\n",
      "longitude          600028\n",
      "latitude           600028\n",
      "dtype: int64\n",
      "(600028, 9)\n",
      "\n",
      "\n",
      "----- population of crime categories -----\n"
     ]
    },
    {
     "data": {
      "text/plain": [
       "category\n",
       "ARSON                            1049\n",
       "ASSAULT                         50256\n",
       "BAD CHECKS                        146\n",
       "BRIBERY                           261\n",
       "BURGLARY                        24440\n",
       "DISORDERLY CONDUCT               2062\n",
       "DRIVING UNDER THE INFLUENCE      1670\n",
       "DRUG/NARCOTIC                   22879\n",
       "DRUNKENNESS                      2794\n",
       "EMBEZZLEMENT                      671\n",
       "EXTORTION                         139\n",
       "FAMILY OFFENSES                   308\n",
       "FORGERY/COUNTERFEITING           3411\n",
       "FRAUD                           11565\n",
       "GAMBLING                           77\n",
       "KIDNAPPING                       1672\n",
       "LARCENY/THEFT                  147366\n",
       "LIQUOR LAWS                       798\n",
       "LOITERING                         252\n",
       "MISSING PERSON                  18233\n",
       "NON-CRIMINAL                    76551\n",
       "OTHER OFFENSES                  79178\n",
       "PORNOGRAPHY/OBSCENE MAT            13\n",
       "PROSTITUTION                     2203\n",
       "RECOVERED VEHICLE                2398\n",
       "ROBBERY                         15327\n",
       "RUNAWAY                           913\n",
       "SECONDARY CODES                  7779\n",
       "SEX OFFENSES, FORCIBLE           3314\n",
       "SEX OFFENSES, NON FORCIBLE         87\n",
       "STOLEN PROPERTY                  4198\n",
       "SUICIDE                           308\n",
       "SUSPICIOUS OCC                  22247\n",
       "TREA                                8\n",
       "TRESPASS                         4942\n",
       "VANDALISM                       29569\n",
       "VEHICLE THEFT                   27480\n",
       "WARRANTS                        27166\n",
       "WEAPON LAWS                      6227\n",
       "Name: category, dtype: int64"
      ]
     },
     "execution_count": 5,
     "metadata": {},
     "output_type": "execute_result"
    }
   ],
   "source": [
    "import pandas as pd\n",
    "import sqlite3 as sql\n",
    "\n",
    "# use the sqlite library to access the file\n",
    "sfpd = sql.connect(\"data/sql/sfpd-incidents.sqlite\")\n",
    "\n",
    "# discover available tables\n",
    "print(\"----- available tables -----\")\n",
    "print(pd.read_sql(\"SELECT name FROM sqlite_master WHERE type='table';\", sfpd))\n",
    "\n",
    "# load 'incidents' table from sqlite3; print population counts for each df feature; print shape of df\n",
    "df = pd.read_sql(\"SELECT * FROM incidents;\", sfpd)\n",
    "print(\"\\n\\n----- population of features -----\")\n",
    "print(df.count())\n",
    "print(df.shape)\n",
    "\n",
    "# create summary view of reported crime frequency; then print summary overview\n",
    "cat = df.drop_duplicates().groupby('category')['category'].count()\n",
    "print(\"\\n\\n----- population of crime categories -----\")\n",
    "cat\n",
    "\n"
   ]
  }
 ],
 "metadata": {
  "kernelspec": {
   "display_name": "Python 3",
   "language": "python",
   "name": "python3"
  },
  "language_info": {
   "codemirror_mode": {
    "name": "ipython",
    "version": 3
   },
   "file_extension": ".py",
   "mimetype": "text/x-python",
   "name": "python",
   "nbconvert_exporter": "python",
   "pygments_lexer": "ipython3",
   "version": "3.12.4"
  }
 },
 "nbformat": 4,
 "nbformat_minor": 2
}
