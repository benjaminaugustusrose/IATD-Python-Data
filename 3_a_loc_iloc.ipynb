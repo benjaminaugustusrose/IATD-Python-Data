{
 "cells": [
  {
   "attachments": {},
   "cell_type": "markdown",
   "metadata": {},
   "source": [
    "# Extracting a single value\n",
    "\n",
    "## By square bracket notation\n",
    "\n",
    "We can extract a single value by using the square bracket notation twice.  For example, I can get the 11,000th value from the rainfall amount column like this.a row or a column from a data frame/series.  This is a simple consequence of the fact that square bracket notation works on both data frames _and_ series.  The left-most one is working on a data frame and returning a series, the second one is working on the series.\n"
   ]
  },
  {
   "cell_type": "code",
   "execution_count": 48,
   "metadata": {},
   "outputs": [
    {
     "data": {
      "text/plain": [
       "np.float64(0.5)"
      ]
     },
     "execution_count": 48,
     "metadata": {},
     "output_type": "execute_result"
    }
   ],
   "source": [
    "import pandas as pd\n",
    "import numpy as np\n",
    "\n",
    "wentworth = pd.read_csv(\"data/rainfall/IDCJAC0009_047045_1800_Data.csv\")\n",
    "wentworth[\"Rainfall amount (millimetres)\"][11000]"
   ]
  },
  {
   "cell_type": "code",
   "execution_count": 2,
   "metadata": {},
   "outputs": [
    {
     "data": {
      "text/html": [
       "<div>\n",
       "<style scoped>\n",
       "    .dataframe tbody tr th:only-of-type {\n",
       "        vertical-align: middle;\n",
       "    }\n",
       "\n",
       "    .dataframe tbody tr th {\n",
       "        vertical-align: top;\n",
       "    }\n",
       "\n",
       "    .dataframe thead th {\n",
       "        text-align: right;\n",
       "    }\n",
       "</style>\n",
       "<table border=\"1\" class=\"dataframe\">\n",
       "  <thead>\n",
       "    <tr style=\"text-align: right;\">\n",
       "      <th></th>\n",
       "      <th>Product code</th>\n",
       "      <th>Bureau of Meteorology station number</th>\n",
       "      <th>Year</th>\n",
       "      <th>Month</th>\n",
       "      <th>Day</th>\n",
       "      <th>Rainfall amount (millimetres)</th>\n",
       "      <th>Period over which rainfall was measured (days)</th>\n",
       "      <th>Quality</th>\n",
       "    </tr>\n",
       "  </thead>\n",
       "  <tbody>\n",
       "    <tr>\n",
       "      <th>0</th>\n",
       "      <td>IDCJAC0009</td>\n",
       "      <td>47045</td>\n",
       "      <td>1933</td>\n",
       "      <td>1</td>\n",
       "      <td>1</td>\n",
       "      <td>NaN</td>\n",
       "      <td>NaN</td>\n",
       "      <td>NaN</td>\n",
       "    </tr>\n",
       "    <tr>\n",
       "      <th>1</th>\n",
       "      <td>IDCJAC0009</td>\n",
       "      <td>47045</td>\n",
       "      <td>1933</td>\n",
       "      <td>1</td>\n",
       "      <td>2</td>\n",
       "      <td>NaN</td>\n",
       "      <td>NaN</td>\n",
       "      <td>NaN</td>\n",
       "    </tr>\n",
       "    <tr>\n",
       "      <th>2</th>\n",
       "      <td>IDCJAC0009</td>\n",
       "      <td>47045</td>\n",
       "      <td>1933</td>\n",
       "      <td>1</td>\n",
       "      <td>3</td>\n",
       "      <td>NaN</td>\n",
       "      <td>NaN</td>\n",
       "      <td>NaN</td>\n",
       "    </tr>\n",
       "    <tr>\n",
       "      <th>3</th>\n",
       "      <td>IDCJAC0009</td>\n",
       "      <td>47045</td>\n",
       "      <td>1933</td>\n",
       "      <td>1</td>\n",
       "      <td>4</td>\n",
       "      <td>NaN</td>\n",
       "      <td>NaN</td>\n",
       "      <td>NaN</td>\n",
       "    </tr>\n",
       "    <tr>\n",
       "      <th>4</th>\n",
       "      <td>IDCJAC0009</td>\n",
       "      <td>47045</td>\n",
       "      <td>1933</td>\n",
       "      <td>1</td>\n",
       "      <td>5</td>\n",
       "      <td>NaN</td>\n",
       "      <td>NaN</td>\n",
       "      <td>NaN</td>\n",
       "    </tr>\n",
       "    <tr>\n",
       "      <th>...</th>\n",
       "      <td>...</td>\n",
       "      <td>...</td>\n",
       "      <td>...</td>\n",
       "      <td>...</td>\n",
       "      <td>...</td>\n",
       "      <td>...</td>\n",
       "      <td>...</td>\n",
       "      <td>...</td>\n",
       "    </tr>\n",
       "    <tr>\n",
       "      <th>32288</th>\n",
       "      <td>IDCJAC0009</td>\n",
       "      <td>47045</td>\n",
       "      <td>2021</td>\n",
       "      <td>5</td>\n",
       "      <td>27</td>\n",
       "      <td>0.0</td>\n",
       "      <td>NaN</td>\n",
       "      <td>N</td>\n",
       "    </tr>\n",
       "    <tr>\n",
       "      <th>32289</th>\n",
       "      <td>IDCJAC0009</td>\n",
       "      <td>47045</td>\n",
       "      <td>2021</td>\n",
       "      <td>5</td>\n",
       "      <td>28</td>\n",
       "      <td>0.0</td>\n",
       "      <td>NaN</td>\n",
       "      <td>N</td>\n",
       "    </tr>\n",
       "    <tr>\n",
       "      <th>32290</th>\n",
       "      <td>IDCJAC0009</td>\n",
       "      <td>47045</td>\n",
       "      <td>2021</td>\n",
       "      <td>5</td>\n",
       "      <td>29</td>\n",
       "      <td>0.0</td>\n",
       "      <td>NaN</td>\n",
       "      <td>N</td>\n",
       "    </tr>\n",
       "    <tr>\n",
       "      <th>32291</th>\n",
       "      <td>IDCJAC0009</td>\n",
       "      <td>47045</td>\n",
       "      <td>2021</td>\n",
       "      <td>5</td>\n",
       "      <td>30</td>\n",
       "      <td>0.0</td>\n",
       "      <td>NaN</td>\n",
       "      <td>N</td>\n",
       "    </tr>\n",
       "    <tr>\n",
       "      <th>32292</th>\n",
       "      <td>IDCJAC0009</td>\n",
       "      <td>47045</td>\n",
       "      <td>2021</td>\n",
       "      <td>5</td>\n",
       "      <td>31</td>\n",
       "      <td>0.0</td>\n",
       "      <td>NaN</td>\n",
       "      <td>N</td>\n",
       "    </tr>\n",
       "  </tbody>\n",
       "</table>\n",
       "<p>32293 rows × 8 columns</p>\n",
       "</div>"
      ],
      "text/plain": [
       "      Product code  Bureau of Meteorology station number  Year  Month  Day  \\\n",
       "0       IDCJAC0009                                 47045  1933      1    1   \n",
       "1       IDCJAC0009                                 47045  1933      1    2   \n",
       "2       IDCJAC0009                                 47045  1933      1    3   \n",
       "3       IDCJAC0009                                 47045  1933      1    4   \n",
       "4       IDCJAC0009                                 47045  1933      1    5   \n",
       "...            ...                                   ...   ...    ...  ...   \n",
       "32288   IDCJAC0009                                 47045  2021      5   27   \n",
       "32289   IDCJAC0009                                 47045  2021      5   28   \n",
       "32290   IDCJAC0009                                 47045  2021      5   29   \n",
       "32291   IDCJAC0009                                 47045  2021      5   30   \n",
       "32292   IDCJAC0009                                 47045  2021      5   31   \n",
       "\n",
       "       Rainfall amount (millimetres)  \\\n",
       "0                                NaN   \n",
       "1                                NaN   \n",
       "2                                NaN   \n",
       "3                                NaN   \n",
       "4                                NaN   \n",
       "...                              ...   \n",
       "32288                            0.0   \n",
       "32289                            0.0   \n",
       "32290                            0.0   \n",
       "32291                            0.0   \n",
       "32292                            0.0   \n",
       "\n",
       "       Period over which rainfall was measured (days) Quality  \n",
       "0                                                 NaN     NaN  \n",
       "1                                                 NaN     NaN  \n",
       "2                                                 NaN     NaN  \n",
       "3                                                 NaN     NaN  \n",
       "4                                                 NaN     NaN  \n",
       "...                                               ...     ...  \n",
       "32288                                             NaN       N  \n",
       "32289                                             NaN       N  \n",
       "32290                                             NaN       N  \n",
       "32291                                             NaN       N  \n",
       "32292                                             NaN       N  \n",
       "\n",
       "[32293 rows x 8 columns]"
      ]
     },
     "execution_count": 2,
     "metadata": {},
     "output_type": "execute_result"
    }
   ],
   "source": [
    "wentworth"
   ]
  },
  {
   "attachments": {},
   "cell_type": "markdown",
   "metadata": {},
   "source": [
    "## By Summarising\n",
    "\n",
    "Pandas provides some \"magic\" when it comes to summarising columns.  Series have a set of \"methods\" attached to them that you can call any time you like to get summaries.  Note that these summaries work on Series, so you should extract them first.  Examples are:\n",
    "  * add up all elements (`sum`)\n",
    "  * calculate the average (`mean`) or mode (`mode`)\n",
    "  * find the largest (`max`) or smallest (`min`)."
   ]
  },
  {
   "cell_type": "code",
   "execution_count": 3,
   "metadata": {},
   "outputs": [
    {
     "name": "stdout",
     "output_type": "stream",
     "text": [
      "sum:\n",
      "22346.2\n",
      "\n",
      "mean:\n",
      "0.7\n",
      "\n",
      "mode:\n",
      "0    0.0\n",
      "Name: Rainfall amount (millimetres), dtype: float64\n",
      "\n",
      "min:\n",
      "0.0\n",
      "\n",
      "max:\n",
      "113.0\n"
     ]
    }
   ],
   "source": [
    "wentworth[\"Rainfall amount (millimetres)\"].sum()\n",
    "\n",
    "# Exercise, try out mean, mode, min, and max\n",
    "print(\"sum:\")\n",
    "print(wentworth[\"Rainfall amount (millimetres)\"].sum().round(2))\n",
    "print(\"\\nmean:\")\n",
    "print(wentworth[\"Rainfall amount (millimetres)\"].mean().round(2))\n",
    "print(\"\\nmode:\")\n",
    "print(wentworth[\"Rainfall amount (millimetres)\"].mode().round(2))\n",
    "print(\"\\nmin:\")\n",
    "print(wentworth[\"Rainfall amount (millimetres)\"].min().round(2))\n",
    "print(\"\\nmax:\")\n",
    "print(wentworth[\"Rainfall amount (millimetres)\"].max().round(2))"
   ]
  },
  {
   "attachments": {},
   "cell_type": "markdown",
   "metadata": {},
   "source": [
    "# Example\n",
    "\n",
    "What is the largest rainfall day for Richmond RAAF base (which is in the file `data/rainfall/IDCJAC0009_067105_1800_Data.csv`)?\n",
    "\n",
    "Which of our rainfall files has the highest average rainfall?"
   ]
  },
  {
   "cell_type": "code",
   "execution_count": 4,
   "metadata": {},
   "outputs": [
    {
     "name": "stdout",
     "output_type": "stream",
     "text": [
      "\n",
      "max:\n",
      "113.0\n"
     ]
    }
   ],
   "source": [
    "\n",
    "richmond = pd.read_csv(\"data/rainfall/IDCJAC0009_067105_1800_Data.csv\")\n",
    "\n",
    "print(\"\\nmax:\")\n",
    "print(wentworth[\"Rainfall amount (millimetres)\"].max().round(2))\n"
   ]
  },
  {
   "attachments": {},
   "cell_type": "markdown",
   "metadata": {},
   "source": [
    "# Exercise\n",
    "\n",
    "What is the total rainfall recorded for Meriwagga (rainfall file 075167)?  What is the maximum and minimum rainfall on any one day?  I am sure you can guess the minimum, but what code will give it to you?"
   ]
  },
  {
   "cell_type": "code",
   "execution_count": 6,
   "metadata": {},
   "outputs": [
    {
     "name": "stdout",
     "output_type": "stream",
     "text": [
      "\n",
      "max:\n",
      "86.0\n",
      "\n",
      "min:\n",
      "0.0\n"
     ]
    }
   ],
   "source": [
    "meriwagga = pd.read_csv(\"data/rainfall/IDCJAC0009_075167_1800_Data.csv\")\n",
    "\n",
    "print(\"\\nmax:\")\n",
    "print(meriwagga[\"Rainfall amount (millimetres)\"].max().round(2))\n",
    "\n",
    "print(\"\\nmin:\")\n",
    "print(meriwagga[\"Rainfall amount (millimetres)\"].min().round(2))"
   ]
  },
  {
   "cell_type": "code",
   "execution_count": 5,
   "metadata": {},
   "outputs": [
    {
     "data": {
      "text/plain": [
       "np.float64(0.0)"
      ]
     },
     "execution_count": 5,
     "metadata": {},
     "output_type": "execute_result"
    }
   ],
   "source": [
    "wentworth.loc[1110, \"Rainfall amount (millimetres)\"]"
   ]
  },
  {
   "attachments": {},
   "cell_type": "markdown",
   "metadata": {},
   "source": [
    "## By `loc` and `iloc`\n",
    "\n",
    "We've seen how to recover a Series from a DataFrame - i.e. how to extract a column.\n",
    "\n",
    "Lets see how to extract a row.\n",
    "\n",
    "It is important to realise that, since DataFrames are built from Series, it is somewhat awkward to pull out a single row.  In effect, we are asking for pandas to visit each Series and grab the value at a particular index.\n",
    "\n",
    "Instead of doing this though, we will use the `loc` functionality of pandas.\n",
    "\n",
    "`loc` and `iloc` are functions that can get columns _or rows_.  `loc` goes by column name when getting columns and by index when getting rows.  `iloc` goes by the order of the column when getting columns and the order of the row when getting rows.\n",
    "\n",
    "`loc` and `iloc` actually take two parameters to look up both axis at once."
   ]
  },
  {
   "cell_type": "code",
   "execution_count": 9,
   "metadata": {},
   "outputs": [
    {
     "data": {
      "text/plain": [
       "np.float64(0.0)"
      ]
     },
     "execution_count": 9,
     "metadata": {},
     "output_type": "execute_result"
    }
   ],
   "source": [
    "wentworth.loc[1110, \"Rainfall amount (millimetres)\"]"
   ]
  },
  {
   "cell_type": "markdown",
   "metadata": {},
   "source": [
    "but (as you can see) does it _row first_.  This means if we only give one, they will look up by row and give you back a series for that row.  It looks like the table was \"flipped\", but that is not really what happens."
   ]
  },
  {
   "cell_type": "code",
   "execution_count": 21,
   "metadata": {},
   "outputs": [
    {
     "data": {
      "text/plain": [
       "Product code                                      IDCJAC0009\n",
       "Bureau of Meteorology station number                   47045\n",
       "Year                                                    1936\n",
       "Month                                                      1\n",
       "Day                                                       16\n",
       "Rainfall amount (millimetres)                            0.0\n",
       "Period over which rainfall was measured (days)           NaN\n",
       "Quality                                                    Y\n",
       "Name: 1110, dtype: object"
      ]
     },
     "execution_count": 21,
     "metadata": {},
     "output_type": "execute_result"
    }
   ],
   "source": [
    "wentworth.loc[1110]"
   ]
  },
  {
   "attachments": {},
   "cell_type": "markdown",
   "metadata": {},
   "source": [
    "# Example\n",
    "\n",
    "What was the rainfall for the 1st May 2019 in Richmond RAF?"
   ]
  },
  {
   "cell_type": "code",
   "execution_count": 52,
   "metadata": {},
   "outputs": [
    {
     "name": "stdout",
     "output_type": "stream",
     "text": [
      "May 1st, 2019:\n"
     ]
    },
    {
     "data": {
      "text/html": [
       "<div>\n",
       "<style scoped>\n",
       "    .dataframe tbody tr th:only-of-type {\n",
       "        vertical-align: middle;\n",
       "    }\n",
       "\n",
       "    .dataframe tbody tr th {\n",
       "        vertical-align: top;\n",
       "    }\n",
       "\n",
       "    .dataframe thead th {\n",
       "        text-align: right;\n",
       "    }\n",
       "</style>\n",
       "<table border=\"1\" class=\"dataframe\">\n",
       "  <thead>\n",
       "    <tr style=\"text-align: right;\">\n",
       "      <th></th>\n",
       "      <th>Rainfall amount (millimetres)</th>\n",
       "    </tr>\n",
       "  </thead>\n",
       "  <tbody>\n",
       "    <tr>\n",
       "      <th>9251</th>\n",
       "      <td>0.0</td>\n",
       "    </tr>\n",
       "  </tbody>\n",
       "</table>\n",
       "</div>"
      ],
      "text/plain": [
       "      Rainfall amount (millimetres)\n",
       "9251                            0.0"
      ]
     },
     "execution_count": 52,
     "metadata": {},
     "output_type": "execute_result"
    }
   ],
   "source": [
    "print(\"May 1st, 2019:\")\n",
    "\n",
    "# print(richmond.loc([[\"Month\" == 5][\"Day\" == 1][\"Year\" == 2019]][\"Rainfall amount (millimetres)\"]))\n",
    "# tmp = richmond[['Year' == '2019'], ['Month' == 5], ['Day' == 1]][['Year', 'Rainfall amount (millimetres)']]\n",
    "\n",
    "tmp = richmond.query('Year == 2019 and Month == 5 and Day == 1')[['Rainfall amount (millimetres)']] # 'Year', 'Month', 'Day', \n",
    "\n",
    "tmp"
   ]
  },
  {
   "attachments": {},
   "cell_type": "markdown",
   "metadata": {},
   "source": [
    "# Exercise\n",
    "\n",
    "What is the title of the 6th row in the `workouts.csv` file?"
   ]
  },
  {
   "cell_type": "code",
   "execution_count": 57,
   "metadata": {},
   "outputs": [
    {
     "name": "stdout",
     "output_type": "stream",
     "text": [
      "--- title of row 6 ---\n",
      "Cycling\n"
     ]
    }
   ],
   "source": [
    "workouts = pd.read_csv(\"data/workouts.csv\")\n",
    "\n",
    "print('--- title of row 6 ---')\n",
    "print(workouts['Title'][5])"
   ]
  },
  {
   "attachments": {},
   "cell_type": "markdown",
   "metadata": {},
   "source": [
    "# Using `loc`/`iloc` for everything?\n",
    "\n",
    "Many pandas programmers just use `loc` and `iloc` for everything but I will not.  Using them \"hides\" the underlying working of pandas and since we are here to learn, that doesn't suit us.  We will use it when we need to, but stick to square bracket notation as much as possible.  If you post a question on stack overflow you will probably get a `loc`/`iloc` based answer though, so we want to make sure you really know how they work."
   ]
  },
  {
   "cell_type": "markdown",
   "metadata": {},
   "source": [
    "# End of Material"
   ]
  }
 ],
 "metadata": {
  "kernelspec": {
   "display_name": "Python 3",
   "language": "python",
   "name": "python3"
  },
  "language_info": {
   "codemirror_mode": {
    "name": "ipython",
    "version": 3
   },
   "file_extension": ".py",
   "mimetype": "text/x-python",
   "name": "python",
   "nbconvert_exporter": "python",
   "pygments_lexer": "ipython3",
   "version": "3.12.4"
  },
  "orig_nbformat": 4
 },
 "nbformat": 4,
 "nbformat_minor": 2
}
